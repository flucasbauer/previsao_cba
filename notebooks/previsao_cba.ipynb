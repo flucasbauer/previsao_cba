{
 "cells": [
  {
   "cell_type": "code",
   "execution_count": 1,
   "id": "ae99b79e-1249-41e4-adc6-6cb09f599b17",
   "metadata": {},
   "outputs": [],
   "source": [
    "import pandas as pd\n",
    "import numpy as np\n",
    "import matplotlib.pyplot as plt\n",
    "import seaborn as sns\n",
    "import statsmodels.api as sm\n",
    "\n",
    "from statsmodels.tsa.statespace.sarimax import SARIMAX"
   ]
  },
  {
   "cell_type": "code",
   "execution_count": 2,
   "id": "a3faeca8-f2aa-4c35-a804-6ba450b1bb6d",
   "metadata": {},
   "outputs": [],
   "source": [
    "df = pd.read_csv(r\"C:\\Users\\fluca\\Desktop\\Data Science\\Projetos\\previsao_cba\\data\\Cesta_basica.csv\")"
   ]
  },
  {
   "cell_type": "code",
   "execution_count": 3,
   "id": "3b67c25e-327c-4d2e-a979-0ca80bab497a",
   "metadata": {},
   "outputs": [
    {
     "data": {
      "text/html": [
       "<div>\n",
       "<style scoped>\n",
       "    .dataframe tbody tr th:only-of-type {\n",
       "        vertical-align: middle;\n",
       "    }\n",
       "\n",
       "    .dataframe tbody tr th {\n",
       "        vertical-align: top;\n",
       "    }\n",
       "\n",
       "    .dataframe thead th {\n",
       "        text-align: right;\n",
       "    }\n",
       "</style>\n",
       "<table border=\"1\" class=\"dataframe\">\n",
       "  <thead>\n",
       "    <tr style=\"text-align: right;\">\n",
       "      <th></th>\n",
       "      <th>ano</th>\n",
       "      <th>mes</th>\n",
       "      <th>Custo</th>\n",
       "    </tr>\n",
       "  </thead>\n",
       "  <tbody>\n",
       "    <tr>\n",
       "      <th>66</th>\n",
       "      <td>2024</td>\n",
       "      <td>mai</td>\n",
       "      <td>655.32</td>\n",
       "    </tr>\n",
       "    <tr>\n",
       "      <th>67</th>\n",
       "      <td>2024</td>\n",
       "      <td>jun</td>\n",
       "      <td>656.62</td>\n",
       "    </tr>\n",
       "    <tr>\n",
       "      <th>68</th>\n",
       "      <td>2024</td>\n",
       "      <td>jul</td>\n",
       "      <td>622.37</td>\n",
       "    </tr>\n",
       "    <tr>\n",
       "      <th>69</th>\n",
       "      <td>2024</td>\n",
       "      <td>ago</td>\n",
       "      <td>599.60</td>\n",
       "    </tr>\n",
       "    <tr>\n",
       "      <th>70</th>\n",
       "      <td>2024</td>\n",
       "      <td>set</td>\n",
       "      <td>618.13</td>\n",
       "    </tr>\n",
       "  </tbody>\n",
       "</table>\n",
       "</div>"
      ],
      "text/plain": [
       "     ano  mes   Custo\n",
       "66  2024  mai  655.32\n",
       "67  2024  jun  656.62\n",
       "68  2024  jul  622.37\n",
       "69  2024  ago  599.60\n",
       "70  2024  set  618.13"
      ]
     },
     "execution_count": 3,
     "metadata": {},
     "output_type": "execute_result"
    }
   ],
   "source": [
    "df.tail()"
   ]
  },
  {
   "cell_type": "code",
   "execution_count": 4,
   "id": "5ce6534e-83a2-448b-9745-173542f36439",
   "metadata": {},
   "outputs": [
    {
     "data": {
      "text/html": [
       "<div>\n",
       "<style scoped>\n",
       "    .dataframe tbody tr th:only-of-type {\n",
       "        vertical-align: middle;\n",
       "    }\n",
       "\n",
       "    .dataframe tbody tr th {\n",
       "        vertical-align: top;\n",
       "    }\n",
       "\n",
       "    .dataframe thead th {\n",
       "        text-align: right;\n",
       "    }\n",
       "</style>\n",
       "<table border=\"1\" class=\"dataframe\">\n",
       "  <thead>\n",
       "    <tr style=\"text-align: right;\">\n",
       "      <th></th>\n",
       "      <th>ano</th>\n",
       "      <th>mes</th>\n",
       "      <th>Custo</th>\n",
       "      <th>mes_num</th>\n",
       "    </tr>\n",
       "  </thead>\n",
       "  <tbody>\n",
       "    <tr>\n",
       "      <th>0</th>\n",
       "      <td>2018</td>\n",
       "      <td>out</td>\n",
       "      <td>347.49</td>\n",
       "      <td>10</td>\n",
       "    </tr>\n",
       "    <tr>\n",
       "      <th>1</th>\n",
       "      <td>2018</td>\n",
       "      <td>nov</td>\n",
       "      <td>351.80</td>\n",
       "      <td>11</td>\n",
       "    </tr>\n",
       "    <tr>\n",
       "      <th>2</th>\n",
       "      <td>2018</td>\n",
       "      <td>dez</td>\n",
       "      <td>351.44</td>\n",
       "      <td>12</td>\n",
       "    </tr>\n",
       "    <tr>\n",
       "      <th>3</th>\n",
       "      <td>2019</td>\n",
       "      <td>fev</td>\n",
       "      <td>353.35</td>\n",
       "      <td>2</td>\n",
       "    </tr>\n",
       "    <tr>\n",
       "      <th>4</th>\n",
       "      <td>2019</td>\n",
       "      <td>mar</td>\n",
       "      <td>378.80</td>\n",
       "      <td>3</td>\n",
       "    </tr>\n",
       "  </tbody>\n",
       "</table>\n",
       "</div>"
      ],
      "text/plain": [
       "    ano  mes   Custo  mes_num\n",
       "0  2018  out  347.49       10\n",
       "1  2018  nov  351.80       11\n",
       "2  2018  dez  351.44       12\n",
       "3  2019  fev  353.35        2\n",
       "4  2019  mar  378.80        3"
      ]
     },
     "execution_count": 4,
     "metadata": {},
     "output_type": "execute_result"
    }
   ],
   "source": [
    "# Criando um dicionário para mapear os meses para números\n",
    "mes_dict = {'jan': 1, 'fev': 2, 'mar': 3, 'abr': 4, 'mai': 5, 'jun': 6, \n",
    "            'jul': 7, 'ago': 8, 'set': 9, 'out': 10, 'nov': 11, 'dez': 12}\n",
    "\n",
    "# Convertendo o mês para um número usando o dicionário\n",
    "df['mes_num'] = df['mes'].map(mes_dict)\n",
    "\n",
    "df.head()"
   ]
  },
  {
   "cell_type": "code",
   "execution_count": 5,
   "id": "9d5a20ff-5091-4022-9976-e831a63c1cec",
   "metadata": {},
   "outputs": [],
   "source": [
    "# Excluindo as três primeiras linhas\n",
    "df = df.iloc[3:].reset_index(drop=True)\n",
    "\n",
    "# Excluindo as duas primeiras colunas ('ano' e 'mes')\n",
    "df = df.drop(['mes'], axis=1)"
   ]
  },
  {
   "cell_type": "code",
   "execution_count": 6,
   "id": "8271cc42-4361-421a-aefa-73e436599a38",
   "metadata": {},
   "outputs": [
    {
     "data": {
      "text/html": [
       "<div>\n",
       "<style scoped>\n",
       "    .dataframe tbody tr th:only-of-type {\n",
       "        vertical-align: middle;\n",
       "    }\n",
       "\n",
       "    .dataframe tbody tr th {\n",
       "        vertical-align: top;\n",
       "    }\n",
       "\n",
       "    .dataframe thead th {\n",
       "        text-align: right;\n",
       "    }\n",
       "</style>\n",
       "<table border=\"1\" class=\"dataframe\">\n",
       "  <thead>\n",
       "    <tr style=\"text-align: right;\">\n",
       "      <th></th>\n",
       "      <th>ano</th>\n",
       "      <th>mes_num</th>\n",
       "      <th>Custo</th>\n",
       "    </tr>\n",
       "  </thead>\n",
       "  <tbody>\n",
       "    <tr>\n",
       "      <th>0</th>\n",
       "      <td>2019</td>\n",
       "      <td>2</td>\n",
       "      <td>353.35</td>\n",
       "    </tr>\n",
       "    <tr>\n",
       "      <th>1</th>\n",
       "      <td>2019</td>\n",
       "      <td>3</td>\n",
       "      <td>378.80</td>\n",
       "    </tr>\n",
       "    <tr>\n",
       "      <th>2</th>\n",
       "      <td>2019</td>\n",
       "      <td>4</td>\n",
       "      <td>382.63</td>\n",
       "    </tr>\n",
       "    <tr>\n",
       "      <th>3</th>\n",
       "      <td>2019</td>\n",
       "      <td>5</td>\n",
       "      <td>366.59</td>\n",
       "    </tr>\n",
       "    <tr>\n",
       "      <th>4</th>\n",
       "      <td>2019</td>\n",
       "      <td>6</td>\n",
       "      <td>377.44</td>\n",
       "    </tr>\n",
       "  </tbody>\n",
       "</table>\n",
       "</div>"
      ],
      "text/plain": [
       "    ano  mes_num   Custo\n",
       "0  2019        2  353.35\n",
       "1  2019        3  378.80\n",
       "2  2019        4  382.63\n",
       "3  2019        5  366.59\n",
       "4  2019        6  377.44"
      ]
     },
     "execution_count": 6,
     "metadata": {},
     "output_type": "execute_result"
    }
   ],
   "source": [
    "# Reorganizando as colunas\n",
    "df = df[['ano', 'mes_num', 'Custo']]\n",
    "df.head()"
   ]
  },
  {
   "cell_type": "code",
   "execution_count": 7,
   "id": "4833f645-5e27-4c00-b2ee-279b05d62484",
   "metadata": {},
   "outputs": [
    {
     "data": {
      "text/html": [
       "<div>\n",
       "<style scoped>\n",
       "    .dataframe tbody tr th:only-of-type {\n",
       "        vertical-align: middle;\n",
       "    }\n",
       "\n",
       "    .dataframe tbody tr th {\n",
       "        vertical-align: top;\n",
       "    }\n",
       "\n",
       "    .dataframe thead th {\n",
       "        text-align: right;\n",
       "    }\n",
       "</style>\n",
       "<table border=\"1\" class=\"dataframe\">\n",
       "  <thead>\n",
       "    <tr style=\"text-align: right;\">\n",
       "      <th></th>\n",
       "      <th>ano</th>\n",
       "      <th>mes</th>\n",
       "      <th>cba</th>\n",
       "    </tr>\n",
       "  </thead>\n",
       "  <tbody>\n",
       "    <tr>\n",
       "      <th>0</th>\n",
       "      <td>2019</td>\n",
       "      <td>2</td>\n",
       "      <td>353.35</td>\n",
       "    </tr>\n",
       "    <tr>\n",
       "      <th>1</th>\n",
       "      <td>2019</td>\n",
       "      <td>3</td>\n",
       "      <td>378.80</td>\n",
       "    </tr>\n",
       "    <tr>\n",
       "      <th>2</th>\n",
       "      <td>2019</td>\n",
       "      <td>4</td>\n",
       "      <td>382.63</td>\n",
       "    </tr>\n",
       "    <tr>\n",
       "      <th>3</th>\n",
       "      <td>2019</td>\n",
       "      <td>5</td>\n",
       "      <td>366.59</td>\n",
       "    </tr>\n",
       "    <tr>\n",
       "      <th>4</th>\n",
       "      <td>2019</td>\n",
       "      <td>6</td>\n",
       "      <td>377.44</td>\n",
       "    </tr>\n",
       "  </tbody>\n",
       "</table>\n",
       "</div>"
      ],
      "text/plain": [
       "    ano  mes     cba\n",
       "0  2019    2  353.35\n",
       "1  2019    3  378.80\n",
       "2  2019    4  382.63\n",
       "3  2019    5  366.59\n",
       "4  2019    6  377.44"
      ]
     },
     "execution_count": 7,
     "metadata": {},
     "output_type": "execute_result"
    }
   ],
   "source": [
    "# Renomeando as colunas\n",
    "df = df.rename(columns={'mes_num': 'mes', 'Custo': 'cba'})\n",
    "df.head()"
   ]
  },
  {
   "cell_type": "code",
   "execution_count": 8,
   "id": "25adb97b-c65c-4f46-84cc-1a3eaf259d52",
   "metadata": {},
   "outputs": [],
   "source": [
    "# Convertendo os dados da coluna 'cba' para numéricos\n",
    "df['cba'] = pd.to_numeric(df['cba'], errors='coerce')"
   ]
  },
  {
   "cell_type": "code",
   "execution_count": 9,
   "id": "ab4f98eb-20bf-49a0-a55c-f033bcbd3a35",
   "metadata": {},
   "outputs": [
    {
     "data": {
      "text/html": [
       "<div>\n",
       "<style scoped>\n",
       "    .dataframe tbody tr th:only-of-type {\n",
       "        vertical-align: middle;\n",
       "    }\n",
       "\n",
       "    .dataframe tbody tr th {\n",
       "        vertical-align: top;\n",
       "    }\n",
       "\n",
       "    .dataframe thead th {\n",
       "        text-align: right;\n",
       "    }\n",
       "</style>\n",
       "<table border=\"1\" class=\"dataframe\">\n",
       "  <thead>\n",
       "    <tr style=\"text-align: right;\">\n",
       "      <th></th>\n",
       "      <th>data</th>\n",
       "      <th>cba</th>\n",
       "    </tr>\n",
       "  </thead>\n",
       "  <tbody>\n",
       "    <tr>\n",
       "      <th>0</th>\n",
       "      <td>2019-02-01</td>\n",
       "      <td>353.35</td>\n",
       "    </tr>\n",
       "    <tr>\n",
       "      <th>1</th>\n",
       "      <td>2019-03-01</td>\n",
       "      <td>378.80</td>\n",
       "    </tr>\n",
       "    <tr>\n",
       "      <th>2</th>\n",
       "      <td>2019-04-01</td>\n",
       "      <td>382.63</td>\n",
       "    </tr>\n",
       "    <tr>\n",
       "      <th>3</th>\n",
       "      <td>2019-05-01</td>\n",
       "      <td>366.59</td>\n",
       "    </tr>\n",
       "    <tr>\n",
       "      <th>4</th>\n",
       "      <td>2019-06-01</td>\n",
       "      <td>377.44</td>\n",
       "    </tr>\n",
       "  </tbody>\n",
       "</table>\n",
       "</div>"
      ],
      "text/plain": [
       "        data     cba\n",
       "0 2019-02-01  353.35\n",
       "1 2019-03-01  378.80\n",
       "2 2019-04-01  382.63\n",
       "3 2019-05-01  366.59\n",
       "4 2019-06-01  377.44"
      ]
     },
     "execution_count": 9,
     "metadata": {},
     "output_type": "execute_result"
    }
   ],
   "source": [
    "# Criando a coluna 'data' no formato 'YYYY-MM-DD'\n",
    "df['data'] = pd.to_datetime(df['ano'].astype(str) + '-' + df['mes'].astype(str) + '-01')\n",
    "\n",
    "# Filtrando os dados a partir de 2020\n",
    "df_2019 = df[df['data'] >= '2019-01-01']\n",
    "\n",
    "# Reorganizando as colunas\n",
    "df_2019 = df_2019[['data', 'cba']]\n",
    "\n",
    "# Reiniciando os índices\n",
    "df_2019.reset_index(drop=True, inplace=True)\n",
    "\n",
    "df_2019.head()"
   ]
  },
  {
   "cell_type": "markdown",
   "id": "460ca6bc",
   "metadata": {},
   "source": [
    "## SARIMA"
   ]
  },
  {
   "cell_type": "code",
   "execution_count": 10,
   "id": "05fd1b08",
   "metadata": {},
   "outputs": [],
   "source": [
    " # Convertendo a coluna de data para datetime e definindo 'data' como índice\n",
    "df_2019['data'] = pd.to_datetime(df_2019['data']) \n",
    "df_2019.set_index('data', inplace=True)  \n",
    "\n",
    "# Série temporal da Cesta Básica de Alimentos (CBA)\n",
    "cba_serie_temporal_2019 = df_2019['cba']"
   ]
  },
  {
   "cell_type": "code",
   "execution_count": 18,
   "id": "b62395c1",
   "metadata": {},
   "outputs": [
    {
     "data": {
      "image/png": "[encoded data removed]",
      "text/plain": [
       "<Figure size 1500x600 with 1 Axes>"
      ]
     },
     "metadata": {},
     "output_type": "display_data"
    }
   ],
   "source": [
    "df_2019['cba'].plot(title='Cesta Básica ao Longo do Tempo', figsize=(15,6))\n",
    "plt.show()"
   ]
  },
  {
   "cell_type": "code",
   "execution_count": 12,
   "id": "ce3b84fd",
   "metadata": {},
   "outputs": [
    {
     "name": "stderr",
     "output_type": "stream",
     "text": [
      "c:\\Users\\fluca\\AppData\\Local\\Programs\\Python\\Python312\\Lib\\site-packages\\statsmodels\\tsa\\base\\tsa_model.py:473: ValueWarning: No frequency information was provided, so inferred frequency MS will be used.\n",
      "  self._init_dates(dates, freq)\n",
      "c:\\Users\\fluca\\AppData\\Local\\Programs\\Python\\Python312\\Lib\\site-packages\\statsmodels\\tsa\\base\\tsa_model.py:473: ValueWarning: No frequency information was provided, so inferred frequency MS will be used.\n",
      "  self._init_dates(dates, freq)\n"
     ]
    }
   ],
   "source": [
    "# Definindo os parâmetros SARIMA e para ARIMA para sazonalidade com período de 12 meses\n",
    "sarima_model = SARIMAX(cba_serie_temporal_2019, \n",
    "                       order=(1, 1, 1), \n",
    "                       seasonal_order=(1, 1, 1, 12))\n",
    "\n",
    "# Ajustando o modelo\n",
    "sarima_fitted = sarima_model.fit(disp=False)"
   ]
  },
  {
   "cell_type": "code",
   "execution_count": 13,
   "id": "92bbcc5e",
   "metadata": {},
   "outputs": [
    {
     "name": "stdout",
     "output_type": "stream",
     "text": [
      "2024-10-01    637.871661\n",
      "2024-11-01    648.805089\n",
      "2024-12-01    655.712208\n",
      "2025-01-01    669.648648\n",
      "2025-02-01    663.283583\n",
      "2025-03-01    684.245769\n",
      "2025-04-01    704.255873\n",
      "2025-05-01    697.542125\n",
      "2025-06-01    694.543306\n",
      "2025-07-01    689.674080\n",
      "2025-08-01    679.449375\n",
      "2025-09-01    690.549960\n",
      "Freq: MS, Name: predicted_mean, dtype: float64\n",
      "             lower cba   upper cba\n",
      "2024-10-01  594.578166  681.165157\n",
      "2024-11-01  588.611806  708.998373\n",
      "2024-12-01  583.189307  728.235108\n",
      "2025-01-01  587.217103  752.080194\n",
      "2025-02-01  572.509838  754.057328\n",
      "2025-03-01  586.587276  781.904261\n",
      "2025-04-01  600.548460  807.963286\n",
      "2025-05-01  588.446850  806.637399\n",
      "2025-06-01  580.596199  808.490413\n",
      "2025-07-01  571.317680  808.030480\n",
      "2025-08-01  557.053913  801.844837\n",
      "2025-09-01  564.428229  816.671691\n"
     ]
    }
   ],
   "source": [
    "# Fazendo previsões para os próximos 12 meses\n",
    "previsoes = sarima_fitted.get_forecast(steps=12)\n",
    "\n",
    "# Obtendo os intervalos de confiança (nível de confiança de 95%)\n",
    "intervalos_de_confianca = previsoes.conf_int()\n",
    "\n",
    "# Exibir as previsões e intervalos de confiança\n",
    "print(previsoes.predicted_mean)  # Previsões de ponto\n",
    "print(intervalos_de_confianca)   # Intervalos de confiança\n"
   ]
  },
  {
   "cell_type": "code",
   "execution_count": 22,
   "id": "ed0416ba",
   "metadata": {},
   "outputs": [
    {
     "data": {
      "image/png": "[encoded data removed]",
      "text/plain": [
       "<Figure size 1500x600 with 1 Axes>"
      ]
     },
     "metadata": {},
     "output_type": "display_data"
    }
   ],
   "source": [
    "# Criando datas para o período previsto\n",
    "datas_futuras = pd.date_range(start=df_2019.index[-1], periods=12, freq='MS')\n",
    "\n",
    "plt.figure(figsize=(15,6))\n",
    "\n",
    "plt.plot(df_2019.index, cba_serie_temporal_2019, label='CBA Observada')\n",
    "\n",
    "plt.plot(datas_futuras, previsoes.predicted_mean, label='Previsões', color='red')\n",
    "\n",
    "plt.fill_between(datas_futuras, \n",
    "                 intervalos_de_confianca.iloc[:, 0], \n",
    "                 intervalos_de_confianca.iloc[:, 1], \n",
    "                 color='pink', alpha=0.3)\n",
    "\n",
    "plt.legend()\n",
    "plt.show()\n"
   ]
  },
  {
   "cell_type": "code",
   "execution_count": 15,
   "id": "32435e7d",
   "metadata": {},
   "outputs": [
    {
     "name": "stdout",
     "output_type": "stream",
     "text": [
      "                   cba   lower_cba   upper_cba\n",
      "2024-10-01  637.871661  594.578166  681.165157\n",
      "2024-11-01  648.805089  588.611806  708.998373\n",
      "2024-12-01  655.712208  583.189307  728.235108\n",
      "2025-01-01  669.648648  587.217103  752.080194\n",
      "2025-02-01  663.283583  572.509838  754.057328\n",
      "2025-03-01  684.245769  586.587276  781.904261\n",
      "2025-04-01  704.255873  600.548460  807.963286\n",
      "2025-05-01  697.542125  588.446850  806.637399\n",
      "2025-06-01  694.543306  580.596199  808.490413\n",
      "2025-07-01  689.674080  571.317680  808.030480\n",
      "2025-08-01  679.449375  557.053913  801.844837\n",
      "2025-09-01  690.549960  564.428229  816.671691\n"
     ]
    }
   ],
   "source": [
    "# Fazendo previsões para os próximos 12 meses\n",
    "previsoes = sarima_fitted.get_forecast(steps=12)\n",
    "\n",
    "# Obtendo os intervalos de confiança (nível de confiança de 95%)\n",
    "intervalos_de_confianca = previsoes.conf_int()\n",
    "\n",
    "# Criando um DataFrame com as previsões e intervalos de confiança\n",
    "df_previsoes = pd.DataFrame({\n",
    "    'cba': previsoes.predicted_mean,  # Previsões de ponto\n",
    "    'lower_cba': intervalos_de_confianca.iloc[:, 0],  # Limite inferior\n",
    "    'upper_cba': intervalos_de_confianca.iloc[:, 1]   # Limite superior\n",
    "})\n",
    "\n",
    "print(df_previsoes)"
   ]
  },
  {
   "cell_type": "code",
   "execution_count": 16,
   "id": "0cb7f593",
   "metadata": {},
   "outputs": [],
   "source": [
    "# Transformando o índice em uma coluna chamada 'data'\n",
    "df_previsoes.reset_index(inplace=True)\n",
    "\n",
    "# Renomeando a coluna de índice para 'data'\n",
    "df_previsoes.rename(columns={'index': 'data'}, inplace=True)\n",
    "\n",
    "# Convertendo a coluna 'data' para apenas a data\n",
    "df_previsoes['data'] = df_previsoes['data'].dt.date"
   ]
  },
  {
   "cell_type": "code",
   "execution_count": 17,
   "id": "49bb656d",
   "metadata": {},
   "outputs": [
    {
     "data": {
      "text/html": [
       "<div>\n",
       "<style scoped>\n",
       "    .dataframe tbody tr th:only-of-type {\n",
       "        vertical-align: middle;\n",
       "    }\n",
       "\n",
       "    .dataframe tbody tr th {\n",
       "        vertical-align: top;\n",
       "    }\n",
       "\n",
       "    .dataframe thead th {\n",
       "        text-align: right;\n",
       "    }\n",
       "</style>\n",
       "<table border=\"1\" class=\"dataframe\">\n",
       "  <thead>\n",
       "    <tr style=\"text-align: right;\">\n",
       "      <th></th>\n",
       "      <th>data</th>\n",
       "      <th>cba</th>\n",
       "      <th>lower_cba</th>\n",
       "      <th>upper_cba</th>\n",
       "    </tr>\n",
       "  </thead>\n",
       "  <tbody>\n",
       "    <tr>\n",
       "      <th>0</th>\n",
       "      <td>2024-10-01</td>\n",
       "      <td>637.871661</td>\n",
       "      <td>594.578166</td>\n",
       "      <td>681.165157</td>\n",
       "    </tr>\n",
       "    <tr>\n",
       "      <th>1</th>\n",
       "      <td>2024-11-01</td>\n",
       "      <td>648.805089</td>\n",
       "      <td>588.611806</td>\n",
       "      <td>708.998373</td>\n",
       "    </tr>\n",
       "    <tr>\n",
       "      <th>2</th>\n",
       "      <td>2024-12-01</td>\n",
       "      <td>655.712208</td>\n",
       "      <td>583.189307</td>\n",
       "      <td>728.235108</td>\n",
       "    </tr>\n",
       "    <tr>\n",
       "      <th>3</th>\n",
       "      <td>2025-01-01</td>\n",
       "      <td>669.648648</td>\n",
       "      <td>587.217103</td>\n",
       "      <td>752.080194</td>\n",
       "    </tr>\n",
       "    <tr>\n",
       "      <th>4</th>\n",
       "      <td>2025-02-01</td>\n",
       "      <td>663.283583</td>\n",
       "      <td>572.509838</td>\n",
       "      <td>754.057328</td>\n",
       "    </tr>\n",
       "  </tbody>\n",
       "</table>\n",
       "</div>"
      ],
      "text/plain": [
       "         data         cba   lower_cba   upper_cba\n",
       "0  2024-10-01  637.871661  594.578166  681.165157\n",
       "1  2024-11-01  648.805089  588.611806  708.998373\n",
       "2  2024-12-01  655.712208  583.189307  728.235108\n",
       "3  2025-01-01  669.648648  587.217103  752.080194\n",
       "4  2025-02-01  663.283583  572.509838  754.057328"
      ]
     },
     "execution_count": 17,
     "metadata": {},
     "output_type": "execute_result"
    }
   ],
   "source": [
    "df_previsoes.head()"
   ]
  },
  {
   "cell_type": "code",
   "execution_count": 50,
   "id": "507cb34e",
   "metadata": {},
   "outputs": [],
   "source": [
    "# Exportando arquivo\n",
    "df_previsoes.to_excel('previsoes.xlsx', index=False)"
   ]
  }
 ],
 "metadata": {
  "kernelspec": {
   "display_name": "Python 3",
   "language": "python",
   "name": "python3"
  },
  "language_info": {
   "codemirror_mode": {
    "name": "ipython",
    "version": 3
   },
   "file_extension": ".py",
   "mimetype": "text/x-python",
   "name": "python",
   "nbconvert_exporter": "python",
   "pygments_lexer": "ipython3",
   "version": "3.12.7"
  }
 },
 "nbformat": 4,
 "nbformat_minor": 5
}
